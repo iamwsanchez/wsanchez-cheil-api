{
 "cells": [
  {
   "cell_type": "code",
   "execution_count": 2,
   "id": "dc5eb905-13b0-408a-a4b8-9a969906f256",
   "metadata": {},
   "outputs": [],
   "source": [
    "import polars as pl"
   ]
  },
  {
   "cell_type": "code",
   "execution_count": 3,
   "id": "c2d98354-d8c9-4297-80eb-83199c524b31",
   "metadata": {},
   "outputs": [],
   "source": [
    "lf = pl.scan_csv(\"vehicle.csv\")  \n",
    "lf.sink_parquet('vehicles.parquet')"
   ]
  },
  {
   "cell_type": "code",
   "execution_count": 4,
   "id": "71d34312-8f7f-46ac-8d97-8e6962efef95",
   "metadata": {},
   "outputs": [],
   "source": [
    "lf = pl.scan_parquet('vehicles.parquet')"
   ]
  },
  {
   "cell_type": "code",
   "execution_count": 5,
   "id": "67c28f1b-e3b2-4adc-9d5d-ba7d780a3894",
   "metadata": {
    "scrolled": true
   },
   "outputs": [
    {
     "data": {
      "text/html": [
       "<div><style>\n",
       ".dataframe > thead > tr > th,\n",
       ".dataframe > tbody > tr > td {\n",
       "  text-align: right;\n",
       "}\n",
       "</style>\n",
       "<small>shape: (1, 19)</small><table border=\"1\" class=\"dataframe\"><thead><tr><th>compactness</th><th>circularity</th><th>distance_circularity</th><th>radius_ratio</th><th>pr.axis_aspect_ratio</th><th>max.length_aspect_ratio</th><th>scatter_ratio</th><th>elongatedness</th><th>pr.axis_rectangularity</th><th>max.length_rectangularity</th><th>scaled_variance</th><th>scaled_variance.1</th><th>scaled_radius_of_gyration</th><th>scaled_radius_of_gyration.1</th><th>skewness_about</th><th>skewness_about.1</th><th>skewness_about.2</th><th>hollows_ratio</th><th>class</th></tr><tr><td>f64</td><td>f64</td><td>f64</td><td>f64</td><td>f64</td><td>f64</td><td>f64</td><td>f64</td><td>f64</td><td>f64</td><td>f64</td><td>f64</td><td>f64</td><td>f64</td><td>f64</td><td>f64</td><td>f64</td><td>f64</td><td>str</td></tr></thead><tbody><tr><td>8.234474</td><td>6.152172</td><td>15.778292</td><td>33.520198</td><td>7.891463</td><td>4.601217</td><td>33.214848</td><td>7.816186</td><td>2.592933</td><td>14.515652</td><td>31.411004</td><td>176.666903</td><td>32.584808</td><td>7.48619</td><td>4.920649</td><td>8.936081</td><td>6.155809</td><td>7.438797</td><td>null</td></tr></tbody></table></div>"
      ],
      "text/plain": [
       "shape: (1, 19)\n",
       "┌─────────────┬─────────────┬──────────────────────┬──────────────┬───┬──────────────────┬──────────────────┬───────────────┬───────┐\n",
       "│ compactness ┆ circularity ┆ distance_circularity ┆ radius_ratio ┆ … ┆ skewness_about.1 ┆ skewness_about.2 ┆ hollows_ratio ┆ class │\n",
       "│ ---         ┆ ---         ┆ ---                  ┆ ---          ┆   ┆ ---              ┆ ---              ┆ ---           ┆ ---   │\n",
       "│ f64         ┆ f64         ┆ f64                  ┆ f64          ┆   ┆ f64              ┆ f64              ┆ f64           ┆ str   │\n",
       "╞═════════════╪═════════════╪══════════════════════╪══════════════╪═══╪══════════════════╪══════════════════╪═══════════════╪═══════╡\n",
       "│ 8.234474    ┆ 6.152172    ┆ 15.778292            ┆ 33.520198    ┆ … ┆ 8.936081         ┆ 6.155809         ┆ 7.438797      ┆ null  │\n",
       "└─────────────┴─────────────┴──────────────────────┴──────────────┴───┴──────────────────┴──────────────────┴───────────────┴───────┘"
      ]
     },
     "execution_count": 5,
     "metadata": {},
     "output_type": "execute_result"
    }
   ],
   "source": [
    "lf.std().collect()"
   ]
  },
  {
   "cell_type": "code",
   "execution_count": 6,
   "id": "f2034442-81b4-4e03-a79d-bfdd9666712d",
   "metadata": {},
   "outputs": [
    {
     "data": {
      "text/html": [
       "<div><style>\n",
       ".dataframe > thead > tr > th,\n",
       ".dataframe > tbody > tr > td {\n",
       "  text-align: right;\n",
       "}\n",
       "</style>\n",
       "<small>shape: (1, 19)</small><table border=\"1\" class=\"dataframe\"><thead><tr><th>compactness</th><th>circularity</th><th>distance_circularity</th><th>radius_ratio</th><th>pr.axis_aspect_ratio</th><th>max.length_aspect_ratio</th><th>scatter_ratio</th><th>elongatedness</th><th>pr.axis_rectangularity</th><th>max.length_rectangularity</th><th>scaled_variance</th><th>scaled_variance.1</th><th>scaled_radius_of_gyration</th><th>scaled_radius_of_gyration.1</th><th>skewness_about</th><th>skewness_about.1</th><th>skewness_about.2</th><th>hollows_ratio</th><th>class</th></tr><tr><td>f64</td><td>f64</td><td>f64</td><td>f64</td><td>f64</td><td>f64</td><td>f64</td><td>f64</td><td>f64</td><td>f64</td><td>f64</td><td>f64</td><td>f64</td><td>f64</td><td>f64</td><td>f64</td><td>f64</td><td>f64</td><td>str</td></tr></thead><tbody><tr><td>93.678487</td><td>44.828775</td><td>82.110451</td><td>168.888095</td><td>61.67891</td><td>8.567376</td><td>168.901775</td><td>40.933728</td><td>20.582444</td><td>147.998818</td><td>188.631079</td><td>439.494076</td><td>174.709716</td><td>72.447743</td><td>6.364286</td><td>12.602367</td><td>188.919527</td><td>195.632388</td><td>null</td></tr></tbody></table></div>"
      ],
      "text/plain": [
       "shape: (1, 19)\n",
       "┌─────────────┬─────────────┬──────────────────────┬──────────────┬───┬──────────────────┬──────────────────┬───────────────┬───────┐\n",
       "│ compactness ┆ circularity ┆ distance_circularity ┆ radius_ratio ┆ … ┆ skewness_about.1 ┆ skewness_about.2 ┆ hollows_ratio ┆ class │\n",
       "│ ---         ┆ ---         ┆ ---                  ┆ ---          ┆   ┆ ---              ┆ ---              ┆ ---           ┆ ---   │\n",
       "│ f64         ┆ f64         ┆ f64                  ┆ f64          ┆   ┆ f64              ┆ f64              ┆ f64           ┆ str   │\n",
       "╞═════════════╪═════════════╪══════════════════════╪══════════════╪═══╪══════════════════╪══════════════════╪═══════════════╪═══════╡\n",
       "│ 93.678487   ┆ 44.828775   ┆ 82.110451            ┆ 168.888095   ┆ … ┆ 12.602367        ┆ 188.919527       ┆ 195.632388    ┆ null  │\n",
       "└─────────────┴─────────────┴──────────────────────┴──────────────┴───┴──────────────────┴──────────────────┴───────────────┴───────┘"
      ]
     },
     "execution_count": 6,
     "metadata": {},
     "output_type": "execute_result"
    }
   ],
   "source": [
    "lf.mean().collect()"
   ]
  },
  {
   "cell_type": "code",
   "execution_count": 7,
   "id": "8a12f8eb-7173-40e4-9054-86468949734f",
   "metadata": {
    "scrolled": true
   },
   "outputs": [],
   "source": [
    "lf.std().collect().write_json(file='vh_std.json', row_oriented=True)"
   ]
  },
  {
   "cell_type": "code",
   "execution_count": 7,
   "id": "e3a9152e-72c0-44a6-9b3b-c9195965d5f3",
   "metadata": {
    "scrolled": true
   },
   "outputs": [
    {
     "data": {
      "text/html": [
       "<div><style>\n",
       ".dataframe > thead > tr > th,\n",
       ".dataframe > tbody > tr > td {\n",
       "  text-align: right;\n",
       "}\n",
       "</style>\n",
       "<small>shape: (3, 19)</small><table border=\"1\" class=\"dataframe\"><thead><tr><th>class</th><th>compactness</th><th>circularity</th><th>distance_circularity</th><th>radius_ratio</th><th>pr.axis_aspect_ratio</th><th>max.length_aspect_ratio</th><th>scatter_ratio</th><th>elongatedness</th><th>pr.axis_rectangularity</th><th>max.length_rectangularity</th><th>scaled_variance</th><th>scaled_variance_1</th><th>scaled_radius_of_gyration</th><th>scaled_radius_of_gyration_1</th><th>skewness_about</th><th>skewness_about_1</th><th>skewness_about_2</th><th>hollows_ratio</th></tr><tr><td>str</td><td>f64</td><td>f64</td><td>f64</td><td>f64</td><td>f64</td><td>f64</td><td>f64</td><td>f64</td><td>f64</td><td>f64</td><td>f64</td><td>f64</td><td>f64</td><td>f64</td><td>f64</td><td>f64</td><td>f64</td><td>f64</td></tr></thead><tbody><tr><td>&quot;car&quot;</td><td>9.0</td><td>7.0</td><td>16.0</td><td>31.0</td><td>5.0</td><td>2.0</td><td>32.0</td><td>8.0</td><td>3.0</td><td>17.0</td><td>28.0</td><td>168.0</td><td>34.0</td><td>5.0</td><td>6.0</td><td>10.0</td><td>5.0</td><td>6.0</td></tr><tr><td>&quot;van&quot;</td><td>4.0</td><td>4.0</td><td>11.0</td><td>30.0</td><td>11.0</td><td>7.0</td><td>14.0</td><td>5.0</td><td>1.0</td><td>11.0</td><td>20.0</td><td>56.0</td><td>23.0</td><td>9.0</td><td>5.0</td><td>6.0</td><td>6.0</td><td>7.0</td></tr><tr><td>&quot;bus&quot;</td><td>9.0</td><td>5.0</td><td>12.0</td><td>31.0</td><td>9.0</td><td>5.0</td><td>33.0</td><td>7.0</td><td>3.0</td><td>10.0</td><td>34.0</td><td>193.0</td><td>31.0</td><td>8.0</td><td>3.0</td><td>7.0</td><td>7.0</td><td>8.0</td></tr></tbody></table></div>"
      ],
      "text/plain": [
       "shape: (3, 19)\n",
       "┌───────┬─────────────┬─────────────┬──────────────────────┬───┬────────────────┬──────────────────┬──────────────────┬───────────────┐\n",
       "│ class ┆ compactness ┆ circularity ┆ distance_circularity ┆ … ┆ skewness_about ┆ skewness_about_1 ┆ skewness_about_2 ┆ hollows_ratio │\n",
       "│ ---   ┆ ---         ┆ ---         ┆ ---                  ┆   ┆ ---            ┆ ---              ┆ ---              ┆ ---           │\n",
       "│ str   ┆ f64         ┆ f64         ┆ f64                  ┆   ┆ f64            ┆ f64              ┆ f64              ┆ f64           │\n",
       "╞═══════╪═════════════╪═════════════╪══════════════════════╪═══╪════════════════╪══════════════════╪══════════════════╪═══════════════╡\n",
       "│ car   ┆ 9.0         ┆ 7.0         ┆ 16.0                 ┆ … ┆ 6.0            ┆ 10.0             ┆ 5.0              ┆ 6.0           │\n",
       "│ van   ┆ 4.0         ┆ 4.0         ┆ 11.0                 ┆ … ┆ 5.0            ┆ 6.0              ┆ 6.0              ┆ 7.0           │\n",
       "│ bus   ┆ 9.0         ┆ 5.0         ┆ 12.0                 ┆ … ┆ 3.0            ┆ 7.0              ┆ 7.0              ┆ 8.0           │\n",
       "└───────┴─────────────┴─────────────┴──────────────────────┴───┴────────────────┴──────────────────┴──────────────────┴───────────────┘"
      ]
     },
     "execution_count": 7,
     "metadata": {},
     "output_type": "execute_result"
    }
   ],
   "source": [
    "# Desviación estandar agrupada por la columna class\n",
    "lf.groupby('class').agg(\n",
    "    pl.std('compactness').round(0),\n",
    "    pl.std('circularity').round(0),\n",
    "    pl.std('distance_circularity').round(0),\n",
    "    pl.std('radius_ratio').round(0),\n",
    "    pl.std('pr.axis_aspect_ratio').round(0),\n",
    "    pl.std('max.length_aspect_ratio').round(0),\n",
    "    pl.std('scatter_ratio').round(0),\n",
    "    pl.std('elongatedness').round(0),\n",
    "    pl.std('pr.axis_rectangularity').round(0),\n",
    "    pl.std('max.length_rectangularity').round(0),\n",
    "    pl.std('scaled_variance').round(0),\n",
    "    pl.std('scaled_variance.1').round(0).alias('scaled_variance_1'),\n",
    "    pl.std('scaled_radius_of_gyration').round(0),\n",
    "    pl.std('scaled_radius_of_gyration.1').round(0).alias('scaled_radius_of_gyration_1'),\n",
    "    pl.std('skewness_about').round(0),\n",
    "    pl.std('skewness_about.1').round(0).alias('skewness_about_1'),\n",
    "    pl.std('skewness_about.2').round(0).alias('skewness_about_2'),\n",
    "    pl.std('hollows_ratio').round(0)).collect()"
   ]
  },
  {
   "cell_type": "code",
   "execution_count": 11,
   "id": "dd02ca9e-d407-4bc7-a782-750ae18a8af4",
   "metadata": {
    "scrolled": true
   },
   "outputs": [
    {
     "data": {
      "text/html": [
       "<div><style>\n",
       ".dataframe > thead > tr > th,\n",
       ".dataframe > tbody > tr > td {\n",
       "  text-align: right;\n",
       "}\n",
       "</style>\n",
       "<small>shape: (3, 19)</small><table border=\"1\" class=\"dataframe\"><thead><tr><th>class</th><th>compactness</th><th>circularity</th><th>distance_circularity</th><th>radius_ratio</th><th>pr.axis_aspect_ratio</th><th>max.length_aspect_ratio</th><th>scatter_ratio</th><th>elongatedness</th><th>pr.axis_rectangularity</th><th>max.length_rectangularity</th><th>scaled_variance</th><th>scaled_variance_1</th><th>scaled_radius_of_gyration</th><th>scaled_radius_of_gyration_1</th><th>skewness_about</th><th>skewness_about_1</th><th>skewness_about_2</th><th>hollows_ratio</th></tr><tr><td>str</td><td>f64</td><td>f64</td><td>f64</td><td>f64</td><td>f64</td><td>f64</td><td>f64</td><td>f64</td><td>f64</td><td>f64</td><td>f64</td><td>f64</td><td>f64</td><td>f64</td><td>f64</td><td>f64</td><td>f64</td><td>f64</td></tr></thead><tbody><tr><td>&quot;bus&quot;</td><td>92.0</td><td>45.0</td><td>77.0</td><td>166.0</td><td>63.0</td><td>7.0</td><td>170.0</td><td>40.0</td><td>21.0</td><td>147.0</td><td>193.0</td><td>449.0</td><td>181.0</td><td>77.0</td><td>5.0</td><td>10.0</td><td>188.0</td><td>191.0</td></tr><tr><td>&quot;car&quot;</td><td>96.0</td><td>46.0</td><td>89.0</td><td>181.0</td><td>61.0</td><td>9.0</td><td>181.0</td><td>38.0</td><td>22.0</td><td>150.0</td><td>198.0</td><td>501.0</td><td>180.0</td><td>70.0</td><td>7.0</td><td>15.0</td><td>189.0</td><td>198.0</td></tr><tr><td>&quot;van&quot;</td><td>91.0</td><td>42.0</td><td>73.0</td><td>147.0</td><td>61.0</td><td>10.0</td><td>142.0</td><td>48.0</td><td>19.0</td><td>145.0</td><td>164.0</td><td>298.0</td><td>157.0</td><td>73.0</td><td>6.0</td><td>10.0</td><td>189.0</td><td>196.0</td></tr></tbody></table></div>"
      ],
      "text/plain": [
       "shape: (3, 19)\n",
       "┌───────┬─────────────┬─────────────┬──────────────────────┬───┬────────────────┬──────────────────┬──────────────────┬───────────────┐\n",
       "│ class ┆ compactness ┆ circularity ┆ distance_circularity ┆ … ┆ skewness_about ┆ skewness_about_1 ┆ skewness_about_2 ┆ hollows_ratio │\n",
       "│ ---   ┆ ---         ┆ ---         ┆ ---                  ┆   ┆ ---            ┆ ---              ┆ ---              ┆ ---           │\n",
       "│ str   ┆ f64         ┆ f64         ┆ f64                  ┆   ┆ f64            ┆ f64              ┆ f64              ┆ f64           │\n",
       "╞═══════╪═════════════╪═════════════╪══════════════════════╪═══╪════════════════╪══════════════════╪══════════════════╪═══════════════╡\n",
       "│ bus   ┆ 92.0        ┆ 45.0        ┆ 77.0                 ┆ … ┆ 5.0            ┆ 10.0             ┆ 188.0            ┆ 191.0         │\n",
       "│ car   ┆ 96.0        ┆ 46.0        ┆ 89.0                 ┆ … ┆ 7.0            ┆ 15.0             ┆ 189.0            ┆ 198.0         │\n",
       "│ van   ┆ 91.0        ┆ 42.0        ┆ 73.0                 ┆ … ┆ 6.0            ┆ 10.0             ┆ 189.0            ┆ 196.0         │\n",
       "└───────┴─────────────┴─────────────┴──────────────────────┴───┴────────────────┴──────────────────┴──────────────────┴───────────────┘"
      ]
     },
     "execution_count": 11,
     "metadata": {},
     "output_type": "execute_result"
    }
   ],
   "source": [
    "# Promedio agrupada por la columna class\n",
    "lf.groupby('class').agg(\n",
    "    pl.mean('compactness').round(0),\n",
    "    pl.mean('circularity').round(0),\n",
    "    pl.mean('distance_circularity').round(0),\n",
    "    pl.mean('radius_ratio').round(0),\n",
    "    pl.mean('pr.axis_aspect_ratio').round(0),\n",
    "    pl.mean('max.length_aspect_ratio').round(0),\n",
    "    pl.mean('scatter_ratio').round(0),\n",
    "    pl.mean('elongatedness').round(0),\n",
    "    pl.mean('pr.axis_rectangularity').round(0),\n",
    "    pl.mean('max.length_rectangularity').round(0),\n",
    "    pl.mean('scaled_variance').round(0),\n",
    "    pl.mean('scaled_variance.1').round(0).alias('scaled_variance_1'),\n",
    "    pl.mean('scaled_radius_of_gyration').round(0),\n",
    "    pl.mean('scaled_radius_of_gyration.1').round(0).alias('scaled_radius_of_gyration_1'),\n",
    "    pl.mean('skewness_about').round(0),\n",
    "    pl.mean('skewness_about.1').round(0).alias('skewness_about_1'),\n",
    "    pl.mean('skewness_about.2').round(0).alias('skewness_about_2'),\n",
    "    pl.mean('hollows_ratio').round(0)).collect()"
   ]
  },
  {
   "cell_type": "code",
   "execution_count": 10,
   "id": "63317188-39a6-4a9a-9678-b0d02e7c12b5",
   "metadata": {},
   "outputs": [
    {
     "data": {
      "text/html": [
       "<div><style>\n",
       ".dataframe > thead > tr > th,\n",
       ".dataframe > tbody > tr > td {\n",
       "  text-align: right;\n",
       "}\n",
       "</style>\n",
       "<small>shape: (3, 19)</small><table border=\"1\" class=\"dataframe\"><thead><tr><th>class</th><th>compactness</th><th>circularity</th><th>distance_circularity</th><th>radius_ratio</th><th>pr.axis_aspect_ratio</th><th>max.length_aspect_ratio</th><th>scatter_ratio</th><th>elongatedness</th><th>pr.axis_rectangularity</th><th>max.length_rectangularity</th><th>scaled_variance</th><th>scaled_variance_1</th><th>scaled_radius_of_gyration</th><th>scaled_radius_of_gyration_1</th><th>skewness_about</th><th>skewness_about_1</th><th>skewness_about_2</th><th>hollows_ratio</th></tr><tr><td>str</td><td>f64</td><td>f64</td><td>f64</td><td>f64</td><td>f64</td><td>f64</td><td>f64</td><td>f64</td><td>f64</td><td>f64</td><td>f64</td><td>f64</td><td>f64</td><td>f64</td><td>f64</td><td>f64</td><td>f64</td><td>f64</td></tr></thead><tbody><tr><td>&quot;van&quot;</td><td>90.0</td><td>42.0</td><td>75.0</td><td>144.0</td><td>59.0</td><td>9.0</td><td>142.0</td><td>47.0</td><td>18.0</td><td>145.0</td><td>164.0</td><td>300.0</td><td>159.0</td><td>72.0</td><td>6.0</td><td>9.0</td><td>188.0</td><td>196.0</td></tr><tr><td>&quot;car&quot;</td><td>97.0</td><td>46.0</td><td>94.0</td><td>186.0</td><td>61.0</td><td>9.0</td><td>185.0</td><td>36.0</td><td>22.0</td><td>150.0</td><td>206.0</td><td>512.0</td><td>182.0</td><td>70.0</td><td>6.0</td><td>14.0</td><td>189.0</td><td>198.0</td></tr><tr><td>&quot;bus&quot;</td><td>89.0</td><td>44.0</td><td>72.0</td><td>168.0</td><td>64.0</td><td>6.0</td><td>152.0</td><td>44.0</td><td>19.0</td><td>145.0</td><td>177.0</td><td>344.0</td><td>176.0</td><td>76.0</td><td>5.0</td><td>10.0</td><td>186.0</td><td>189.0</td></tr></tbody></table></div>"
      ],
      "text/plain": [
       "shape: (3, 19)\n",
       "┌───────┬─────────────┬─────────────┬──────────────────────┬───┬────────────────┬──────────────────┬──────────────────┬───────────────┐\n",
       "│ class ┆ compactness ┆ circularity ┆ distance_circularity ┆ … ┆ skewness_about ┆ skewness_about_1 ┆ skewness_about_2 ┆ hollows_ratio │\n",
       "│ ---   ┆ ---         ┆ ---         ┆ ---                  ┆   ┆ ---            ┆ ---              ┆ ---              ┆ ---           │\n",
       "│ str   ┆ f64         ┆ f64         ┆ f64                  ┆   ┆ f64            ┆ f64              ┆ f64              ┆ f64           │\n",
       "╞═══════╪═════════════╪═════════════╪══════════════════════╪═══╪════════════════╪══════════════════╪══════════════════╪═══════════════╡\n",
       "│ van   ┆ 90.0        ┆ 42.0        ┆ 75.0                 ┆ … ┆ 6.0            ┆ 9.0              ┆ 188.0            ┆ 196.0         │\n",
       "│ car   ┆ 97.0        ┆ 46.0        ┆ 94.0                 ┆ … ┆ 6.0            ┆ 14.0             ┆ 189.0            ┆ 198.0         │\n",
       "│ bus   ┆ 89.0        ┆ 44.0        ┆ 72.0                 ┆ … ┆ 5.0            ┆ 10.0             ┆ 186.0            ┆ 189.0         │\n",
       "└───────┴─────────────┴─────────────┴──────────────────────┴───┴────────────────┴──────────────────┴──────────────────┴───────────────┘"
      ]
     },
     "execution_count": 10,
     "metadata": {},
     "output_type": "execute_result"
    }
   ],
   "source": [
    "# Mediana agrupada por columna class\n",
    "lf.groupby('class').agg(\n",
    "    pl.median('compactness').round(0),\n",
    "    pl.median('circularity').round(0),\n",
    "    pl.median('distance_circularity').round(0),\n",
    "    pl.median('radius_ratio').round(0),\n",
    "    pl.median('pr.axis_aspect_ratio').round(0),\n",
    "    pl.median('max.length_aspect_ratio').round(0),\n",
    "    pl.median('scatter_ratio').round(0),\n",
    "    pl.median('elongatedness').round(0),\n",
    "    pl.median('pr.axis_rectangularity').round(0),\n",
    "    pl.median('max.length_rectangularity').round(0),\n",
    "    pl.median('scaled_variance').round(0),\n",
    "    pl.median('scaled_variance.1').round(0).alias('scaled_variance_1'),\n",
    "    pl.median('scaled_radius_of_gyration').round(0),\n",
    "    pl.median('scaled_radius_of_gyration.1').round(0).alias('scaled_radius_of_gyration_1'),\n",
    "    pl.median('skewness_about').round(0),\n",
    "    pl.median('skewness_about.1').round(0).alias('skewness_about_1'),\n",
    "    pl.median('skewness_about.2').round(0).alias('skewness_about_2'),\n",
    "    pl.median('hollows_ratio').round(0)).collect()"
   ]
  },
  {
   "cell_type": "code",
   "execution_count": null,
   "id": "912176ff-81f4-468b-a84a-ff7f8cde53d8",
   "metadata": {},
   "outputs": [],
   "source": []
  }
 ],
 "metadata": {
  "kernelspec": {
   "display_name": "Python 3 (ipykernel)",
   "language": "python",
   "name": "python3"
  },
  "language_info": {
   "codemirror_mode": {
    "name": "ipython",
    "version": 3
   },
   "file_extension": ".py",
   "mimetype": "text/x-python",
   "name": "python",
   "nbconvert_exporter": "python",
   "pygments_lexer": "ipython3",
   "version": "3.11.4"
  }
 },
 "nbformat": 4,
 "nbformat_minor": 5
}
